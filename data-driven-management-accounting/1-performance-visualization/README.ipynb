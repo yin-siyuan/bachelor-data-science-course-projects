{
 "cells": [
  {
   "cell_type": "markdown",
   "id": "f6bd1e68-5147-401e-84b7-bf0643869b9b",
   "metadata": {},
   "source": [
    "# 📊 Balanced Scorecard Performance Dashboard for GEAR\n",
    "\n",
    "This project builds an interactive dashboard to visualize performance across GEAR's global markets using the Balanced Scorecard approach. GEAR is a premium bicycle company operating in North America, Europe, and South America, aiming to track its strategic goals through measurable KPIs.\n",
    "\n",
    "## 🔧 Tools & Libraries\n",
    "\n",
    "- Python (Pandas, Plotly, Dash)\n",
    "- Interactive dropdown-based filtering\n",
    "- Custom color-coded KPI indicators\n",
    "\n",
    "## ✨ Key Features\n",
    "\n",
    "- Multi-market filtering (North America, Europe, South America)\n",
    "- Visual performance indicators:\n",
    "  - ✅ Green: Target met or exceeded\n",
    "  - 🟧 Orange: Within 10% below target\n",
    "  - 🔴 Red: More than 10% below target\n",
    "- Graphical performance summaries per region inspired by real-world business dashboards\n",
    "\n",
    "## 📈 Business Insight\n",
    "\n",
    "This dashboard supports GEAR's management in strategic decision-making by visualizing which KPIs are underperforming and which regions need focused improvement.\n",
    "\n",
    "## 📁 Files\n",
    "\n",
    "- **`performance-visualization.html`** for easy viewing in any web browser\n",
    "- `performance-visualization.ipynb` – Notebook containing dashboard logic and design\n"
   ]
  }
 ],
 "metadata": {
  "kernelspec": {
   "display_name": "Python 3 (ipykernel)",
   "language": "python",
   "name": "python3"
  },
  "language_info": {
   "codemirror_mode": {
    "name": "ipython",
    "version": 3
   },
   "file_extension": ".py",
   "mimetype": "text/x-python",
   "name": "python",
   "nbconvert_exporter": "python",
   "pygments_lexer": "ipython3",
   "version": "3.13.5"
  }
 },
 "nbformat": 4,
 "nbformat_minor": 5
}
