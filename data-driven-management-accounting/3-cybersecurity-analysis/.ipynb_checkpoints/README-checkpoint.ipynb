{
 "cells": [
  {
   "cell_type": "markdown",
   "id": "75aaae0e-4e38-418b-acf2-3c6c91477fa6",
   "metadata": {},
   "source": [
    "# 🔐 Cybersecurity Log Analysis for GEAR\n",
    "\n",
    "This project analyzes user authentication logs to detect post-employment access attempts, login anomalies, and cybersecurity policy violations at GEAR.\n",
    "\n",
    "## 🔧 Tools & Libraries\n",
    "\n",
    "- Python (Pandas, NumPy, datetime)\n",
    "- Data merging and time filtering\n",
    "- Log anomaly detection\n",
    "- Descriptive statistics and behavioral patterns\n",
    "\n",
    "## ✨ Key Analyses\n",
    "\n",
    "- Frequency of failed logins and login anomalies per employee\n",
    "- Detection of post-termination login attempts\n",
    "- Identification of successful logins from unknown or international sources\n",
    "- Evaluation of high-risk user behaviors\n",
    "\n",
    "## 📈 Business Insight\n",
    "\n",
    "The results help GEAR identify weaknesses in access control policies, highlight high-risk employees, and inform IT security improvements.\n",
    "\n",
    "## 📁 Files\n",
    "\n",
    "- **`P2P_Loan_Analysis.html`** for easy viewing in any web browser\n",
    "- `log_analysis.ipynb` – Notebook with data processing and analysis steps\n",
    "- `data/` – Includes `LoginAnalysis_LogFile.csv` and `EmployeeData.csv`\n"
   ]
  },
  {
   "cell_type": "markdown",
   "id": "f21cba95-1079-42f8-bf26-2f6575c2001e",
   "metadata": {},
   "source": []
  }
 ],
 "metadata": {
  "kernelspec": {
   "display_name": "Python 3 (ipykernel)",
   "language": "python",
   "name": "python3"
  },
  "language_info": {
   "codemirror_mode": {
    "name": "ipython",
    "version": 3
   },
   "file_extension": ".py",
   "mimetype": "text/x-python",
   "name": "python",
   "nbconvert_exporter": "python",
   "pygments_lexer": "ipython3",
   "version": "3.13.5"
  }
 },
 "nbformat": 4,
 "nbformat_minor": 5
}
