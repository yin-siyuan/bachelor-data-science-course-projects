{
 "cells": [
  {
   "cell_type": "markdown",
   "id": "b56b0f6c-296b-4bc1-82d9-cd64b1073304",
   "metadata": {},
   "source": [
    "# 🔐 Cybersecurity and Employee Log Analysis at GEAR\n",
    "\n",
    "This notebook investigates GEAR’s authentication log files and employee data to uncover anomalies, post-employment access attempts, and security policy violations.\n"
   ]
  },
  {
   "cell_type": "markdown",
   "id": "adc5f7ec-e4aa-4f5f-8d07-20d7b784353c",
   "metadata": {},
   "source": [
    "## 🔍 Overview of Login Patterns\n",
    "\n",
    "- Over 1.29 million login attempts were made\n",
    "- 20% of logins failed, suggesting frequent incorrect authentication attempts\n",
    "- Most login activity occurs during weekdays, consistent with typical office behavior\n",
    "- Average login attempts per employee per day: 19–20, reflecting policy of auto-lock and reauthentication"
   ]
  },
  {
   "cell_type": "code",
   "execution_count": 1,
   "id": "72f6b1bf-1747-4527-bdb6-c3f448e4db88",
   "metadata": {},
   "outputs": [],
   "source": [
    "import pandas as pd\n",
    "import numpy as np \n",
    "import pandas as pd\n",
    "from matplotlib import pyplot as plt"
   ]
  },
  {
   "cell_type": "code",
   "execution_count": 2,
   "id": "e428295a-91cb-468d-8b6b-14977e5ad837",
   "metadata": {},
   "outputs": [],
   "source": [
    "data = pd.read_csv(r'../data/Cybersecurity_case_study_LoginAnalysis_LogFile.csv', encoding='ISO-8859-1')"
   ]
  },
  {
   "cell_type": "code",
   "execution_count": 3,
   "id": "da7ce434-54f2-4835-9d5d-4bcd02f5fb40",
   "metadata": {},
   "outputs": [
    {
     "data": {
      "text/plain": [
       "(1292180, 10)"
      ]
     },
     "execution_count": 3,
     "metadata": {},
     "output_type": "execute_result"
    }
   ],
   "source": [
    "data.shape"
   ]
  },
  {
   "cell_type": "code",
   "execution_count": 4,
   "id": "5a75b9ad-158e-4444-8b38-8670796f16f9",
   "metadata": {},
   "outputs": [
    {
     "data": {
      "text/plain": [
       "np.float64(0.1984514541317773)"
      ]
     },
     "execution_count": 4,
     "metadata": {},
     "output_type": "execute_result"
    }
   ],
   "source": [
    "login_counts = data['LoginSuccess'].value_counts()\n",
    "total = login_counts.sum()\n",
    "failures = login_counts.get('Failure')\n",
    "failure_rate = (failures / total)\n",
    "failure_rate"
   ]
  },
  {
   "cell_type": "code",
   "execution_count": 5,
   "id": "ef9efc30-631a-42e5-97c3-29a22406fcb1",
   "metadata": {},
   "outputs": [
    {
     "data": {
      "text/plain": [
       "DayOfWeek\n",
       "Tuesday      252117\n",
       "Wednesday    249695\n",
       "Friday       240374\n",
       "Monday       235521\n",
       "Thursday     232287\n",
       "Saturday      59952\n",
       "Sunday        22234\n",
       "Name: count, dtype: int64"
      ]
     },
     "execution_count": 5,
     "metadata": {},
     "output_type": "execute_result"
    }
   ],
   "source": [
    "data['Date'] = pd.to_datetime(data['Date'])\n",
    "data['DayOfWeek'] = data['Date'].dt.day_name()\n",
    "login_by_day = data['DayOfWeek'].value_counts()\n",
    "login_by_day"
   ]
  },
  {
   "cell_type": "code",
   "execution_count": 6,
   "id": "3e6a0c68-b3b7-478f-82d9-4cdfe8357e2c",
   "metadata": {},
   "outputs": [
    {
     "data": {
      "text/plain": [
       "np.float64(0.06360259406584222)"
      ]
     },
     "execution_count": 6,
     "metadata": {},
     "output_type": "execute_result"
    }
   ],
   "source": [
    "weekend_total = login_by_day['Saturday'] + login_by_day['Sunday']\n",
    "total_logins = login_by_day.sum()\n",
    "weekend_percentage = weekend_total / total_logins\n",
    "weekend_percentage"
   ]
  },
  {
   "cell_type": "code",
   "execution_count": 7,
   "id": "4a6a23a5-3560-46b5-bac0-112369ae4154",
   "metadata": {},
   "outputs": [
    {
     "data": {
      "text/plain": [
       "np.float64(19.639486283152216)"
      ]
     },
     "execution_count": 7,
     "metadata": {},
     "output_type": "execute_result"
    }
   ],
   "source": [
    "login_counts = data.groupby(['UserName', 'Date']).size()\n",
    "average_logins = login_counts.mean()\n",
    "average_logins"
   ]
  },
  {
   "cell_type": "markdown",
   "id": "8e000325-6dfc-4b8e-8486-aa7610994d9d",
   "metadata": {},
   "source": [
    "## 👥 Employee Behavior Analysis\n",
    "\n",
    "Two datasets were merged: login logs and employee info. This enabled:\n",
    "\n",
    "### 📊 Per-Employee Summary:\n",
    "- Total successful and failed logins\n",
    "- Sorted by activity volume\n",
    "\n",
    "### ⚠️ Failure Rate Ranking:\n",
    "- Failure rate = Failed logins / Total attempts\n",
    "- Highlighted employees with >35% failure rate as potential risk\n",
    "- Several employees showed >80% failure rates, which is abnormal and warrants investigation"
   ]
  },
  {
   "cell_type": "code",
   "execution_count": 8,
   "id": "dd1a8e9d-7eba-414e-9691-9f8b37115a14",
   "metadata": {},
   "outputs": [],
   "source": [
    "data2 = pd.read_csv('../data/Cybersecurity_case_study_LoginAnalysis_EmployeeData.csv', encoding='ISO-8859-1')"
   ]
  },
  {
   "cell_type": "code",
   "execution_count": 9,
   "id": "b1fb283f-1f23-4e16-8fcb-15a72833a8c8",
   "metadata": {},
   "outputs": [],
   "source": [
    "merged_data = pd.merge(data, data2, on='UserName', how='outer')\n",
    "\n",
    "merged_data['EndDate'] = pd.to_datetime(merged_data['EndDate'])"
   ]
  },
  {
   "cell_type": "code",
   "execution_count": 10,
   "id": "882b8257-1dc6-44cf-a0b4-7dc5546b9460",
   "metadata": {},
   "outputs": [
    {
     "data": {
      "text/html": [
       "<div>\n",
       "<style scoped>\n",
       "    .dataframe tbody tr th:only-of-type {\n",
       "        vertical-align: middle;\n",
       "    }\n",
       "\n",
       "    .dataframe tbody tr th {\n",
       "        vertical-align: top;\n",
       "    }\n",
       "\n",
       "    .dataframe thead th {\n",
       "        text-align: right;\n",
       "    }\n",
       "</style>\n",
       "<table border=\"1\" class=\"dataframe\">\n",
       "  <thead>\n",
       "    <tr style=\"text-align: right;\">\n",
       "      <th></th>\n",
       "      <th>UserName</th>\n",
       "      <th>EmployeeName</th>\n",
       "      <th>SuccessfulLogins</th>\n",
       "      <th>FailedLogins</th>\n",
       "    </tr>\n",
       "  </thead>\n",
       "  <tbody>\n",
       "    <tr>\n",
       "      <th>98</th>\n",
       "      <td>CGonnin6</td>\n",
       "      <td>Cullie Gonnin</td>\n",
       "      <td>10491</td>\n",
       "      <td>1074</td>\n",
       "    </tr>\n",
       "    <tr>\n",
       "      <th>347</th>\n",
       "      <td>NLax62</td>\n",
       "      <td>Nadeen Lax</td>\n",
       "      <td>9301</td>\n",
       "      <td>985</td>\n",
       "    </tr>\n",
       "    <tr>\n",
       "      <th>206</th>\n",
       "      <td>GWhitelock12</td>\n",
       "      <td>Gil Whitelock</td>\n",
       "      <td>8996</td>\n",
       "      <td>2402</td>\n",
       "    </tr>\n",
       "    <tr>\n",
       "      <th>401</th>\n",
       "      <td>SBenito53</td>\n",
       "      <td>Son Benito</td>\n",
       "      <td>8481</td>\n",
       "      <td>2235</td>\n",
       "    </tr>\n",
       "    <tr>\n",
       "      <th>187</th>\n",
       "      <td>GEmons23</td>\n",
       "      <td>Garrek Emons</td>\n",
       "      <td>8469</td>\n",
       "      <td>3173</td>\n",
       "    </tr>\n",
       "  </tbody>\n",
       "</table>\n",
       "</div>"
      ],
      "text/plain": [
       "         UserName   EmployeeName  SuccessfulLogins  FailedLogins\n",
       "98       CGonnin6  Cullie Gonnin             10491          1074\n",
       "347        NLax62     Nadeen Lax              9301           985\n",
       "206  GWhitelock12  Gil Whitelock              8996          2402\n",
       "401     SBenito53     Son Benito              8481          2235\n",
       "187      GEmons23   Garrek Emons              8469          3173"
      ]
     },
     "execution_count": 10,
     "metadata": {},
     "output_type": "execute_result"
    }
   ],
   "source": [
    "employee_login = merged_data[(merged_data['UserName'] != 'Admin') & (merged_data['LogEntry'].notna())].copy()\n",
    "\n",
    "employee_login['SuccessfulLogins'] = (employee_login['LoginSuccess'] == 'Success').astype(int)\n",
    "employee_login['FailedLogins'] = (employee_login['LoginSuccess'] == 'Failure').astype(int)\n",
    "\n",
    "login_summary = employee_login.groupby('UserName')[['SuccessfulLogins', 'FailedLogins']].sum().reset_index()\n",
    "\n",
    "employee_names = employee_login[['UserName', 'FirstName', 'LastName']].drop_duplicates(subset='UserName')\n",
    "\n",
    "employee_names['EmployeeName'] = employee_names['FirstName'] + ' ' + employee_names['LastName']\n",
    "\n",
    "login_status_per_employee = pd.merge(employee_names[['UserName', 'EmployeeName']],login_summary,  on='UserName')\n",
    "\n",
    "login_status_per_employee = login_status_per_employee.sort_values(by='SuccessfulLogins', ascending=False)\n",
    "\n",
    "login_status_per_employee.head()"
   ]
  },
  {
   "cell_type": "code",
   "execution_count": 11,
   "id": "d888298a-dd80-4329-a25b-a00ddfdb9890",
   "metadata": {},
   "outputs": [
    {
     "data": {
      "text/html": [
       "<div>\n",
       "<style scoped>\n",
       "    .dataframe tbody tr th:only-of-type {\n",
       "        vertical-align: middle;\n",
       "    }\n",
       "\n",
       "    .dataframe tbody tr th {\n",
       "        vertical-align: top;\n",
       "    }\n",
       "\n",
       "    .dataframe thead th {\n",
       "        text-align: right;\n",
       "    }\n",
       "</style>\n",
       "<table border=\"1\" class=\"dataframe\">\n",
       "  <thead>\n",
       "    <tr style=\"text-align: right;\">\n",
       "      <th></th>\n",
       "      <th>UserName</th>\n",
       "      <th>EmployeeName</th>\n",
       "      <th>FailureRate</th>\n",
       "    </tr>\n",
       "  </thead>\n",
       "  <tbody>\n",
       "    <tr>\n",
       "      <th>152</th>\n",
       "      <td>EJeanneau51</td>\n",
       "      <td>Evyn Jeanneau</td>\n",
       "      <td>0.819875</td>\n",
       "    </tr>\n",
       "    <tr>\n",
       "      <th>7</th>\n",
       "      <td>ABragger43</td>\n",
       "      <td>Adele Bragger</td>\n",
       "      <td>0.570687</td>\n",
       "    </tr>\n",
       "    <tr>\n",
       "      <th>281</th>\n",
       "      <td>LEvennett22</td>\n",
       "      <td>Leyla Evennett</td>\n",
       "      <td>0.533605</td>\n",
       "    </tr>\n",
       "    <tr>\n",
       "      <th>338</th>\n",
       "      <td>MVedeniktov67</td>\n",
       "      <td>Margery Vedeniktov</td>\n",
       "      <td>0.474114</td>\n",
       "    </tr>\n",
       "    <tr>\n",
       "      <th>186</th>\n",
       "      <td>GDunstone64</td>\n",
       "      <td>Galvin Dunstone</td>\n",
       "      <td>0.470930</td>\n",
       "    </tr>\n",
       "  </tbody>\n",
       "</table>\n",
       "</div>"
      ],
      "text/plain": [
       "          UserName        EmployeeName  FailureRate\n",
       "152    EJeanneau51       Evyn Jeanneau     0.819875\n",
       "7       ABragger43       Adele Bragger     0.570687\n",
       "281    LEvennett22      Leyla Evennett     0.533605\n",
       "338  MVedeniktov67  Margery Vedeniktov     0.474114\n",
       "186    GDunstone64     Galvin Dunstone     0.470930"
      ]
     },
     "execution_count": 11,
     "metadata": {},
     "output_type": "execute_result"
    }
   ],
   "source": [
    "login_status_per_employee['FailureRate'] = login_status_per_employee['FailedLogins'] / (login_status_per_employee['SuccessfulLogins'] + login_status_per_employee['FailedLogins'])\n",
    "\n",
    "result_df = login_status_per_employee[['UserName', 'EmployeeName', 'FailureRate']].sort_values(by='FailureRate', ascending=False)\n",
    "\n",
    "result_df.head()"
   ]
  },
  {
   "cell_type": "code",
   "execution_count": 12,
   "id": "6cd4c290-22aa-48a6-bb1c-4879370218aa",
   "metadata": {},
   "outputs": [
    {
     "data": {
      "text/plain": [
       "Text(0, 0.5, 'Frequency')"
      ]
     },
     "execution_count": 12,
     "metadata": {},
     "output_type": "execute_result"
    },
    {
     "data": {
      "image/png": "[encoded data removed]",
      "text/plain": [
       "<Figure size 640x480 with 1 Axes>"
      ]
     },
     "metadata": {},
     "output_type": "display_data"
    }
   ],
   "source": [
    "plt.hist(result_df['FailureRate'], bins=20, edgecolor='black')\n",
    "\n",
    "plt.xlabel('Failure Rate')\n",
    "plt.ylabel('Frequency')"
   ]
  },
  {
   "cell_type": "markdown",
   "id": "8a2fcbd1-c349-4d40-97f5-bfe7bc02ad25",
   "metadata": {},
   "source": [
    "## 🚫 Post-Termination Access Attempts\n",
    "\n",
    "We identified log entries where employees attempted to log in **after their official end date**.\n",
    "\n",
    "### Example flagged data:\n",
    "- Employee X: Login 3 days after termination\n",
    "- Employee Y: LoginSuccess = True after EndDate\n",
    "\n",
    "### Recommendation:\n",
    "- Implement automated access revocation upon termination\n",
    "- Perform periodic audit of system permissions"
   ]
  },
  {
   "cell_type": "code",
   "execution_count": 13,
   "id": "ae60e842-d858-46c1-9b71-51ccd6813ea9",
   "metadata": {},
   "outputs": [
    {
     "data": {
      "text/plain": [
       "np.int64(17973)"
      ]
     },
     "execution_count": 13,
     "metadata": {},
     "output_type": "execute_result"
    }
   ],
   "source": [
    "employee_login['EndDate'].notnull().sum()"
   ]
  },
  {
   "cell_type": "code",
   "execution_count": 14,
   "id": "6694aaa1-5549-4671-ad2b-99acec83c569",
   "metadata": {},
   "outputs": [
    {
     "data": {
      "text/plain": [
       "5"
      ]
     },
     "execution_count": 14,
     "metadata": {},
     "output_type": "execute_result"
    }
   ],
   "source": [
    "invalid_logins = employee_login[employee_login['Date'] > (employee_login['EndDate'])].copy()\n",
    "\n",
    "invalid_logins['EmployeeName'] = invalid_logins['FirstName'] + ' ' + invalid_logins['LastName']\n",
    "\n",
    "invalid_logins = invalid_logins[['LogEntry', 'EmployeeName', 'EndDate', 'Date', 'LoginSuccess']]\n",
    "\n",
    "invalid_logins = invalid_logins.sort_values(by='LogEntry', ascending=True)\n",
    "\n",
    "invalid_logins['EmployeeName'].nunique()"
   ]
  },
  {
   "cell_type": "code",
   "execution_count": 15,
   "id": "9d498a19-f509-487d-8b2d-e2b65fc9ba40",
   "metadata": {},
   "outputs": [
    {
     "data": {
      "text/html": [
       "<div>\n",
       "<style scoped>\n",
       "    .dataframe tbody tr th:only-of-type {\n",
       "        vertical-align: middle;\n",
       "    }\n",
       "\n",
       "    .dataframe tbody tr th {\n",
       "        vertical-align: top;\n",
       "    }\n",
       "\n",
       "    .dataframe thead th {\n",
       "        text-align: right;\n",
       "    }\n",
       "</style>\n",
       "<table border=\"1\" class=\"dataframe\">\n",
       "  <thead>\n",
       "    <tr style=\"text-align: right;\">\n",
       "      <th></th>\n",
       "      <th>EmployeeName</th>\n",
       "      <th>FailureRate</th>\n",
       "    </tr>\n",
       "  </thead>\n",
       "  <tbody>\n",
       "    <tr>\n",
       "      <th>267</th>\n",
       "      <td>Kameko Mathwen</td>\n",
       "      <td>0.296774</td>\n",
       "    </tr>\n",
       "    <tr>\n",
       "      <th>217</th>\n",
       "      <td>Hugues MacMenamin</td>\n",
       "      <td>0.232682</td>\n",
       "    </tr>\n",
       "    <tr>\n",
       "      <th>383</th>\n",
       "      <td>Richard Giannoni</td>\n",
       "      <td>0.201629</td>\n",
       "    </tr>\n",
       "    <tr>\n",
       "      <th>38</th>\n",
       "      <td>Bancroft Aldington</td>\n",
       "      <td>0.169800</td>\n",
       "    </tr>\n",
       "    <tr>\n",
       "      <th>134</th>\n",
       "      <td>Dennie Olech</td>\n",
       "      <td>0.066393</td>\n",
       "    </tr>\n",
       "  </tbody>\n",
       "</table>\n",
       "</div>"
      ],
      "text/plain": [
       "           EmployeeName  FailureRate\n",
       "267      Kameko Mathwen     0.296774\n",
       "217   Hugues MacMenamin     0.232682\n",
       "383    Richard Giannoni     0.201629\n",
       "38   Bancroft Aldington     0.169800\n",
       "134        Dennie Olech     0.066393"
      ]
     },
     "execution_count": 15,
     "metadata": {},
     "output_type": "execute_result"
    }
   ],
   "source": [
    "invalid_logins_names = invalid_logins['EmployeeName'].unique()\n",
    "\n",
    "failure_rate_for_invalid_logins = result_df[result_df['EmployeeName'].isin(invalid_logins_names)]\n",
    "\n",
    "failure_rate_for_invalid_logins[['EmployeeName', 'FailureRate']]"
   ]
  },
  {
   "cell_type": "code",
   "execution_count": 16,
   "id": "8a2e57e5-de30-4f27-b32e-24ea2210967a",
   "metadata": {},
   "outputs": [
    {
     "data": {
      "text/html": [
       "<div>\n",
       "<style scoped>\n",
       "    .dataframe tbody tr th:only-of-type {\n",
       "        vertical-align: middle;\n",
       "    }\n",
       "\n",
       "    .dataframe tbody tr th {\n",
       "        vertical-align: top;\n",
       "    }\n",
       "\n",
       "    .dataframe thead th {\n",
       "        text-align: right;\n",
       "    }\n",
       "</style>\n",
       "<table border=\"1\" class=\"dataframe\">\n",
       "  <thead>\n",
       "    <tr style=\"text-align: right;\">\n",
       "      <th></th>\n",
       "      <th>EmployeeName</th>\n",
       "      <th>EndDate</th>\n",
       "    </tr>\n",
       "  </thead>\n",
       "  <tbody>\n",
       "    <tr>\n",
       "      <th>777137</th>\n",
       "      <td>Kameko Mathwen</td>\n",
       "      <td>2013-09-14</td>\n",
       "    </tr>\n",
       "    <tr>\n",
       "      <th>401000</th>\n",
       "      <td>Dennie Olech</td>\n",
       "      <td>2022-09-28</td>\n",
       "    </tr>\n",
       "    <tr>\n",
       "      <th>122690</th>\n",
       "      <td>Bancroft Aldington</td>\n",
       "      <td>2022-10-04</td>\n",
       "    </tr>\n",
       "    <tr>\n",
       "      <th>641377</th>\n",
       "      <td>Hugues MacMenamin</td>\n",
       "      <td>2022-11-18</td>\n",
       "    </tr>\n",
       "    <tr>\n",
       "      <th>1065607</th>\n",
       "      <td>Richard Giannoni</td>\n",
       "      <td>2022-11-22</td>\n",
       "    </tr>\n",
       "  </tbody>\n",
       "</table>\n",
       "</div>"
      ],
      "text/plain": [
       "               EmployeeName    EndDate\n",
       "777137       Kameko Mathwen 2013-09-14\n",
       "401000         Dennie Olech 2022-09-28\n",
       "122690   Bancroft Aldington 2022-10-04\n",
       "641377    Hugues MacMenamin 2022-11-18\n",
       "1065607    Richard Giannoni 2022-11-22"
      ]
     },
     "execution_count": 16,
     "metadata": {},
     "output_type": "execute_result"
    }
   ],
   "source": [
    "invalid_logins[['EmployeeName','EndDate']].drop_duplicates()"
   ]
  },
  {
   "cell_type": "code",
   "execution_count": 17,
   "id": "abd598eb-67fe-46dc-a83a-2b44bb82c403",
   "metadata": {},
   "outputs": [
    {
     "data": {
      "text/html": [
       "<div>\n",
       "<style scoped>\n",
       "    .dataframe tbody tr th:only-of-type {\n",
       "        vertical-align: middle;\n",
       "    }\n",
       "\n",
       "    .dataframe tbody tr th {\n",
       "        vertical-align: top;\n",
       "    }\n",
       "\n",
       "    .dataframe thead th {\n",
       "        text-align: right;\n",
       "    }\n",
       "</style>\n",
       "<table border=\"1\" class=\"dataframe\">\n",
       "  <thead>\n",
       "    <tr style=\"text-align: right;\">\n",
       "      <th></th>\n",
       "      <th>EmployeeName</th>\n",
       "      <th>EndDate</th>\n",
       "      <th>Date</th>\n",
       "    </tr>\n",
       "  </thead>\n",
       "  <tbody>\n",
       "    <tr>\n",
       "      <th>777137</th>\n",
       "      <td>Kameko Mathwen</td>\n",
       "      <td>2013-09-14</td>\n",
       "      <td>2022-05-02</td>\n",
       "    </tr>\n",
       "    <tr>\n",
       "      <th>777161</th>\n",
       "      <td>Kameko Mathwen</td>\n",
       "      <td>2013-09-14</td>\n",
       "      <td>2022-05-03</td>\n",
       "    </tr>\n",
       "    <tr>\n",
       "      <th>777173</th>\n",
       "      <td>Kameko Mathwen</td>\n",
       "      <td>2013-09-14</td>\n",
       "      <td>2022-05-04</td>\n",
       "    </tr>\n",
       "    <tr>\n",
       "      <th>777213</th>\n",
       "      <td>Kameko Mathwen</td>\n",
       "      <td>2013-09-14</td>\n",
       "      <td>2022-05-05</td>\n",
       "    </tr>\n",
       "    <tr>\n",
       "      <th>777251</th>\n",
       "      <td>Kameko Mathwen</td>\n",
       "      <td>2013-09-14</td>\n",
       "      <td>2022-05-06</td>\n",
       "    </tr>\n",
       "    <tr>\n",
       "      <th>...</th>\n",
       "      <td>...</td>\n",
       "      <td>...</td>\n",
       "      <td>...</td>\n",
       "    </tr>\n",
       "    <tr>\n",
       "      <th>641597</th>\n",
       "      <td>Hugues MacMenamin</td>\n",
       "      <td>2022-11-18</td>\n",
       "      <td>2022-11-29</td>\n",
       "    </tr>\n",
       "    <tr>\n",
       "      <th>401435</th>\n",
       "      <td>Dennie Olech</td>\n",
       "      <td>2022-09-28</td>\n",
       "      <td>2022-11-30</td>\n",
       "    </tr>\n",
       "    <tr>\n",
       "      <th>1065700</th>\n",
       "      <td>Richard Giannoni</td>\n",
       "      <td>2022-11-22</td>\n",
       "      <td>2022-11-30</td>\n",
       "    </tr>\n",
       "    <tr>\n",
       "      <th>780388</th>\n",
       "      <td>Kameko Mathwen</td>\n",
       "      <td>2013-09-14</td>\n",
       "      <td>2022-11-30</td>\n",
       "    </tr>\n",
       "    <tr>\n",
       "      <th>641617</th>\n",
       "      <td>Hugues MacMenamin</td>\n",
       "      <td>2022-11-18</td>\n",
       "      <td>2022-11-30</td>\n",
       "    </tr>\n",
       "  </tbody>\n",
       "</table>\n",
       "<p>226 rows × 3 columns</p>\n",
       "</div>"
      ],
      "text/plain": [
       "              EmployeeName    EndDate       Date\n",
       "777137      Kameko Mathwen 2013-09-14 2022-05-02\n",
       "777161      Kameko Mathwen 2013-09-14 2022-05-03\n",
       "777173      Kameko Mathwen 2013-09-14 2022-05-04\n",
       "777213      Kameko Mathwen 2013-09-14 2022-05-05\n",
       "777251      Kameko Mathwen 2013-09-14 2022-05-06\n",
       "...                    ...        ...        ...\n",
       "641597   Hugues MacMenamin 2022-11-18 2022-11-29\n",
       "401435        Dennie Olech 2022-09-28 2022-11-30\n",
       "1065700   Richard Giannoni 2022-11-22 2022-11-30\n",
       "780388      Kameko Mathwen 2013-09-14 2022-11-30\n",
       "641617   Hugues MacMenamin 2022-11-18 2022-11-30\n",
       "\n",
       "[226 rows x 3 columns]"
      ]
     },
     "execution_count": 17,
     "metadata": {},
     "output_type": "execute_result"
    }
   ],
   "source": [
    "invalid_logins[['EmployeeName','EndDate','Date']].drop_duplicates()"
   ]
  },
  {
   "cell_type": "markdown",
   "id": "afb817bd-2254-4cac-bd92-aba86741598f",
   "metadata": {},
   "source": [
    "## 🌐 Unauthorized External Logins\n",
    "\n",
    "Some login attempts came from IP addresses with **no matching employee record**, including:\n",
    "- Several successful logins from unknown users\n",
    "- Attempts from unexpected countries\n",
    "\n",
    "### Possible causes:\n",
    "- Former employees using still-active credentials\n",
    "- Credential leaks / brute-force attempts\n",
    "\n",
    "### Recommendations:\n",
    "- Block login attempts from foreign IPs\n",
    "- Enforce multi-factor authentication\n",
    "- Implement geofencing for sensitive systems\n"
   ]
  },
  {
   "cell_type": "code",
   "execution_count": 18,
   "id": "24f46d0a-d3c3-40e2-802d-9582e4140b01",
   "metadata": {},
   "outputs": [
    {
     "data": {
      "text/plain": [
       "(1277, 15)"
      ]
     },
     "execution_count": 18,
     "metadata": {},
     "output_type": "execute_result"
    }
   ],
   "source": [
    "df_9 = merged_data[merged_data['FirstName'].isnull()]\n",
    "\n",
    "df_9.shape"
   ]
  },
  {
   "cell_type": "code",
   "execution_count": 19,
   "id": "87f150a5-83ba-491f-840c-5cc3c0806c7c",
   "metadata": {},
   "outputs": [
    {
     "data": {
      "text/plain": [
       "LoginSuccess\n",
       "Failure    1277\n",
       "Name: count, dtype: int64"
      ]
     },
     "execution_count": 19,
     "metadata": {},
     "output_type": "execute_result"
    }
   ],
   "source": [
    "df_9['LoginSuccess'].value_counts()"
   ]
  },
  {
   "cell_type": "code",
   "execution_count": 20,
   "id": "72c99dad-de6f-4d60-8092-c3ace70520a5",
   "metadata": {},
   "outputs": [
    {
     "data": {
      "text/plain": [
       "Country\n",
       "China                  220\n",
       "Canada                 168\n",
       "Germany                159\n",
       "United Kingdom          96\n",
       "Taiwan                  63\n",
       "Australia               56\n",
       "Hong Kong S.A.R.        55\n",
       "South Korea             51\n",
       "Netherlands             42\n",
       "Italy                   40\n",
       "India                   39\n",
       "Japan                   32\n",
       "Belgium                 31\n",
       "Colombia                21\n",
       "Switzerland             20\n",
       "Israel                  18\n",
       "Mexico                  17\n",
       "Spain                   16\n",
       "Turkey                  13\n",
       "Thailand                13\n",
       "Sweden                  10\n",
       "New Zealand              9\n",
       "France                   9\n",
       "Austria                  8\n",
       "Finland                  6\n",
       "Russia                   6\n",
       "Trinidad and Tobago      5\n",
       "Malaysia                 5\n",
       "Greece                   5\n",
       "Brazil                   5\n",
       "Kenya                    5\n",
       "Norway                   5\n",
       "Uruguay                  4\n",
       "Ireland                  4\n",
       "Bahamas                  4\n",
       "Guatemala                4\n",
       "Costa Rica               4\n",
       "Czechia                  4\n",
       "Chile                    2\n",
       "Vietnam                  1\n",
       "Denmark                  1\n",
       "Philippines              1\n",
       "Name: count, dtype: int64"
      ]
     },
     "execution_count": 20,
     "metadata": {},
     "output_type": "execute_result"
    }
   ],
   "source": [
    "df_9['Country'].value_counts()"
   ]
  },
  {
   "cell_type": "code",
   "execution_count": 21,
   "id": "c0939485-2cde-4cc1-81f5-b93f3f53c506",
   "metadata": {},
   "outputs": [
    {
     "data": {
      "text/plain": [
       "array(['Admin'], dtype=object)"
      ]
     },
     "execution_count": 21,
     "metadata": {},
     "output_type": "execute_result"
    }
   ],
   "source": [
    "df_9['UserName'].unique()"
   ]
  },
  {
   "cell_type": "markdown",
   "id": "c46f5ac3-9b38-4bdb-b255-ced11ced9170",
   "metadata": {},
   "source": [
    "\n",
    "## ✅ Summary\n",
    "\n",
    "This analysis helps GEAR identify vulnerabilities in its access control framework and enhances organizational readiness against internal and external cybersecurity threats."
   ]
  }
 ],
 "metadata": {
  "kernelspec": {
   "display_name": "Python 3 (ipykernel)",
   "language": "python",
   "name": "python3"
  },
  "language_info": {
   "codemirror_mode": {
    "name": "ipython",
    "version": 3
   },
   "file_extension": ".py",
   "mimetype": "text/x-python",
   "name": "python",
   "nbconvert_exporter": "python",
   "pygments_lexer": "ipython3",
   "version": "3.13.5"
  }
 },
 "nbformat": 4,
 "nbformat_minor": 5
}
