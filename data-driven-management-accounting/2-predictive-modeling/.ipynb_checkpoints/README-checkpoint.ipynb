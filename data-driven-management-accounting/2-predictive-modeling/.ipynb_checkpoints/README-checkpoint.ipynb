{
 "cells": [
  {
   "cell_type": "markdown",
   "id": "4f5e1de3-2628-4f11-a0cf-b5b7ae91bf1b",
   "metadata": {},
   "source": [
    "# 🤖 Predictive Modeling for Defect Detection in Bicycle Production\n",
    "\n",
    "This project develops a cost-sensitive decision tree classifier to detect high-risk customizations in GEAR’s bicycle assembly line. It balances inspection costs, repair costs, and customer lifetime value loss due to defects.\n",
    "\n",
    "## 🔧 Tools & Techniques\n",
    "\n",
    "- Python (scikit-learn, Pandas)\n",
    "- Decision tree classifier with hyperparameter tuning\n",
    "- Cost-benefit economic modeling\n",
    "- Feature importance and model interpretability\n",
    "\n",
    "## ✨ Key Deliverables\n",
    "\n",
    "- Decision tree model trained on 10,000 historical orders\n",
    "- Identification of key defect-driving configurations (e.g. frame, wheel, brake system)\n",
    "- Recommendation for using model-based inspections over random sampling\n",
    "\n",
    "## 📈 Business Insight\n",
    "\n",
    "By proactively identifying risky product combinations, GEAR can optimize its quality control procedures, reducing customer churn and defect-related costs.\n",
    "\n",
    "## 📁 Files\n",
    "\n",
    "- **`predictive-modeling.html`** for easy viewing in any web browser\n",
    "- `predictive-modeling.ipynb` – Model training, evaluation, and financial analysis\n"
   ]
  },
  {
   "cell_type": "code",
   "execution_count": null,
   "id": "8773e611-8a71-495a-82de-f18b62442b11",
   "metadata": {},
   "outputs": [],
   "source": []
  }
 ],
 "metadata": {
  "kernelspec": {
   "display_name": "Python 3 (ipykernel)",
   "language": "python",
   "name": "python3"
  },
  "language_info": {
   "codemirror_mode": {
    "name": "ipython",
    "version": 3
   },
   "file_extension": ".py",
   "mimetype": "text/x-python",
   "name": "python",
   "nbconvert_exporter": "python",
   "pygments_lexer": "ipython3",
   "version": "3.13.5"
  }
 },
 "nbformat": 4,
 "nbformat_minor": 5
}
