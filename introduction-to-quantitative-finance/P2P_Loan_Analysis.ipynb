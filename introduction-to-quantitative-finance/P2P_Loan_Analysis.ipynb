{
 "cells": [
  {
   "cell_type": "markdown",
   "id": "7adfdef5-a1b5-4b45-a901-c4c5406c1a98",
   "metadata": {},
   "source": [
    "### **Project Introduction**\n",
    "\n",
    "> Peer-to-peer (P2P) lending platforms have revolutionized the way individuals can invest in and receive loans, removing traditional financial intermediaries from the process.\n",
    "> While this offers investors greater control, it also places the responsibility on them to assess borrower creditworthiness and construct their own loan portfolios.\n",
    "\n",
    "This project serves as an analysis for a fictional P2P lending platform.  \n",
    "\n",
    "The **primary goal** is to:\n",
    "- Explore the characteristics of loans on the platform\n",
    "- Model potential risks such as borrower default\n",
    "- Evaluate the effectiveness of the platform's internal credit rating system\n",
    "\n",
    "The analysis uses a dataset (`p2ploans.csv`) containing loan characteristics such as:\n",
    "- Interest rates\n",
    "- Borrower debt-to-income ratios\n",
    "- Internal ratings\n",
    "\n",
    "The insights from this analysis can help the platform:\n",
    "- Refine its risk models\n",
    "- Improve its rating system\n",
    "- Provide better guidance to investors\n",
    "\n",
    "---\n",
    "\n"
   ]
  },
  {
   "cell_type": "markdown",
   "id": "4b5ee630-014d-43e7-9ea3-da2b98a722a9",
   "metadata": {},
   "source": [
    "### **Analysis 1: Descriptive Analysis of Yearly Loan Payments**\n",
    "\n",
    "This analysis examines the properties of yearly loan payments on the platform. These payments are fixed over the loan’s duration and are made directly to the platform rather than to individual investors.\n",
    "\n",
    "#### **Business Questions**\n",
    "- What are the typical size and shape of yearly loan payments on the platform?\n",
    "- Is the distribution of yearly payments symmetric or skewed?\n",
    "- Which statistical distribution (normal, triangular, or uniform) best models these payments for future forecasting?\n",
    "- What is the present value(PV) of the platform's largest loan, considering both the first yearly payment and the full loan term?\n",
    "\n",
    "#### **Implementation**\n",
    "To address these questions, we:\n",
    "1. **Calculated descriptive statistics** — mean, median, skewness, and kurtosis — for yearly payments, and compared skewness and kurtosis values to those of a normal distribution.\n",
    "2. **Visualized the distribution** by constructing a histogram with 20 bins using ggplot2, adding vertical lines for the mean and median, and labeling the axes and title appropriately.\n",
    "3. **Assessed distribution symmetry** by comparing mean vs. median and analyzing the histogram shape.\n",
    "4. **Evaluated model** fit by discussing the parameters of the normal, triangular, and uniform distributions, and comparing these to the observed data and histogram.\n",
    "5. **Identified the loan with the largest yearly payment** and calculated:\n",
    "   - The present value of its **first yearly payment**, assuming end-of-year payment and discounting at a risk-free rate of **1.72%**.\n",
    "   - The present value of **all yearly payments over the loan’s duration**, applying the same discount rate."
   ]
  },
  {
   "cell_type": "code",
   "execution_count": 21,
   "id": "fa83d020-98f7-4969-bdc2-bb633ff38d39",
   "metadata": {},
   "outputs": [],
   "source": [
    "library(ggplot2)\n",
    "library(moments)\n",
    "library(dplyr)"
   ]
  },
  {
   "cell_type": "code",
   "execution_count": 2,
   "id": "98b3b289-5bff-4cd9-a4a9-62572971b86e",
   "metadata": {},
   "outputs": [],
   "source": [
    "data <- read.csv(\"data/p2ploans.csv\")"
   ]
  },
  {
   "cell_type": "code",
   "execution_count": 49,
   "id": "0a0e22c8-b515-4e0f-80f3-8e330d1d19cf",
   "metadata": {},
   "outputs": [
    {
     "name": "stdout",
     "output_type": "stream",
     "text": [
      "Mean Yearly Payment: 4918.38 \n",
      "Median Yearly Payment: 4322.94 \n"
     ]
    }
   ],
   "source": [
    "# Calculate the mean and median of yearly payments\n",
    "mean_yearly_payment <- mean(data$yearly_payment)\n",
    "median_yearly_payment <- median(data$yearly_payment)\n",
    "\n",
    "cat(\"Mean Yearly Payment:\", round(mean_yearly_payment, 2), \"\\n\")\n",
    "cat(\"Median Yearly Payment:\", round(median_yearly_payment, 2), \"\\n\")"
   ]
  },
  {
   "cell_type": "code",
   "execution_count": 8,
   "id": "8f195942-442d-45ae-b3ba-76f5835e9e52",
   "metadata": {},
   "outputs": [
    {
     "data": {
      "image/png": "[encoded data removed]",
      "text/plain": [
       "plot without title"
      ]
     },
     "metadata": {
      "image/png": {
       "height": 420,
       "width": 420
      }
     },
     "output_type": "display_data"
    }
   ],
   "source": [
    "# Plot histogram with mean/median lines\n",
    "ggplot(data, aes(x = yearly_payment)) +\n",
    "  geom_histogram(bins = 20, fill = \"white\", color = \"black\") +\n",
    "  geom_vline(aes(xintercept = mean_yearly_payment), color = \"red\", linetype = \"dashed\", linewidth = 1) +\n",
    "  geom_vline(aes(xintercept = median_yearly_payment), color = \"blue\", linetype = \"dashed\", linewidth = 1) +\n",
    "  annotate(\"text\", x = mean_yearly_payment, y = 5, label = paste0(\"Mean\"), color = \"red\", angle = 90,  vjust = -0.5) +\n",
    "  annotate(\"text\", x = median_yearly_payment, y = 10, label = paste0(\"Median\"), color = \"blue\", angle = 90, vjust = -0.5) +\n",
    "  labs(title = \"Histogram of Yearly Payments\", x = \"Yearly Payment (USD)\", y = \"Frequency\")"
   ]
  },
  {
   "cell_type": "code",
   "execution_count": 48,
   "id": "aa384f2d-e659-4fd5-abea-270a6c1192ce",
   "metadata": {},
   "outputs": [
    {
     "name": "stdout",
     "output_type": "stream",
     "text": [
      "Skewness of Yearly Payments: 1.0192 \n",
      "Kurtosis of Yearly Payments: 4.074 \n"
     ]
    }
   ],
   "source": [
    "# Calculate skewness and kurtosis\n",
    "skew_moments <- skewness(data$yearly_payment)\n",
    "kurt_moments <- kurtosis(data$yearly_payment)\n",
    "\n",
    "cat(\"Skewness of Yearly Payments:\", round(skew_moments, 4), \"\\n\")\n",
    "cat(\"Kurtosis of Yearly Payments:\", round(kurt_moments, 4), \"\\n\")"
   ]
  },
  {
   "cell_type": "code",
   "execution_count": 47,
   "id": "143e0bcc-d041-48c2-847a-af0cfb536a97",
   "metadata": {},
   "outputs": [
    {
     "name": "stdout",
     "output_type": "stream",
     "text": [
      "Loan with largest yearly payment has ID: 137 \n",
      "Largest yearly payment amount: 15020.16 \n",
      "Present Value of first yearly payment: 14766.18 \n"
     ]
    }
   ],
   "source": [
    "# Identify loan with largest yearly payment and PV of first payment\n",
    "\n",
    "# Find the row with the maximum yearly payment\n",
    "max_yearly_payment_row <- data[which.max(data$yearly_payment), ]\n",
    "\n",
    "# Extract yearly payment and loan ID\n",
    "max_yearly_payment <- max_yearly_payment_row$yearly_payment\n",
    "loan_id <- max_yearly_payment_row$id\n",
    "\n",
    "# Define risk-free rate\n",
    "risk_free_rate <- 0.0172\n",
    "\n",
    "# Present value of the first yearly payment\n",
    "pv_first_payment <- max_yearly_payment / (1 + risk_free_rate)\n",
    "\n",
    "cat(\"Loan with largest yearly payment has ID:\", loan_id, \"\\n\")\n",
    "cat(\"Largest yearly payment amount:\", round(max_yearly_payment, 2), \"\\n\")\n",
    "cat(\"Present Value of first yearly payment:\", round(pv_first_payment, 2), \"\\n\")\n"
   ]
  },
  {
   "cell_type": "code",
   "execution_count": 46,
   "id": "4cc99995-2e33-4a03-b35d-29b0f9dd4557",
   "metadata": {},
   "outputs": [
    {
     "name": "stdout",
     "output_type": "stream",
     "text": [
      "Total Present Value over loan duration: 71375.93 \n"
     ]
    }
   ],
   "source": [
    "# PV of all yearly payments over loan duration\n",
    "\n",
    "# Extract loan maturity (in years)\n",
    "loan_duration <- max_yearly_payment_row$maturity\n",
    "\n",
    "# Initialize total present value\n",
    "total_present_value <- 0\n",
    "\n",
    "# Loop through each payment year and discount\n",
    "for (n in 1:loan_duration) {\n",
    "  present_value <- max_yearly_payment / (1 + risk_free_rate)^n\n",
    "  total_present_value <- total_present_value + present_value\n",
    "}\n",
    "\n",
    "cat(\"Total Present Value over loan duration:\", round(total_present_value, 2), \"\\n\")\n"
   ]
  },
  {
   "cell_type": "markdown",
   "id": "486cf30e-5ba2-4264-a9e7-76332c1dc3c3",
   "metadata": {},
   "source": [
    "#### **Results**\n",
    "\n",
    "- **Mean yearly payment:** `$4,918.38`- noticeably higher than the median of `$4,322.94`, indicating the data is not symmetric.  \n",
    "- **Skewness:** 1.0192 (positive), **Kurtosis:** 4.074 → distribution is right-skewed and has heavier tails than a normal distribution  (which has kurtosis = 3).  \n",
    "- Histogram confirms right skew: most payments cluster at the lower end, with a long tail of higher-value payments pulling the mean upward.  \n",
    "- Best-fitting model: A **triangular distribution** is selected as the best-fitting model because it can effectively capture the observed skewness and the shape visible in the histogram. The triangular distribution parameters include the minimum, maximum, and mode of yearly payments; since yearly payments are fixed over loan durations, the lowest and highest yearly payments can serve as minimum and maximum values.\n",
    "- A normal distribution is not appropriate as it assumes symmetry (skewness = 0) and a kurtosis of 3, which does not match the positive skewness (1.0192) and heavier tails (kurtosis 4.074) in the data.\n",
    "- A uniform distribution is also unsuitable because it assumes no skewness and equal likelihood across the range, contradicting the clear skewness and varying frequencies observed.\n",
    "- Largest yearly payment: **\\$15,020.16** (Loan ID: 137)  \n",
    "  - PV of first payment: \\$14,766.18  \n",
    "  - Total PV of all future payments: \\$71,375.93  \n"
   ]
  },
  {
   "cell_type": "markdown",
   "id": "6818bf56-0dcd-4664-8543-0d7321878070",
   "metadata": {},
   "source": [
    "### **Analysis 2: Modeling Borrower Default Risk**\n",
    "\n",
    "This section assesses the financial impact of borrower defaults on the platform's expected revenues.\n",
    "\n",
    "#### **Business Questions**\n",
    "- What is the expected value of a single loan payment, considering a 5% default probability?\n",
    "- How does the expected value change when considering the entire lifetime of a multi-year loan?\n",
    "- Across the entire platform, what is the expected number, variance, and skewness of loan defaults in a given year?\n",
    "- What is the aggregate expected payment from a small portfolio of loans under independent and perfectly correlated default scenarios?\n",
    "- From a risk management perspective, which default scenario is preferable?\n",
    "\n",
    "#### **Implementation**\n",
    "To model borrower default risk, we:\n",
    "1. Calculated the expected value of the first yearly payment for loan ID 5, assuming a **5% probability of default** (payment $0) and **95% probability of full payment**, regardless of the payment year.\n",
    "2. Computed the expected value of the final (third) yearly payment for the same loan under the same assumptions.\n",
    "3. Explained the difference between expected values for the first and final payments, noting that defaults earlier in the loan term affect later payments more heavily.\n",
    "4. Identified the **Binomial distribution** as appropriate to model the number of defaults in the first repayment period, parameterized by the number of loans and default probability.\n",
    "5. Calculated the expected number of defaults, variance, and skewness of defaults across the full portfolio of 5,000 loans.\n",
    "6. Calculated the sum of expected payments at the end of the first year for loans with IDs 1 to 10 assuming independent defaults.\n",
    "7. Modeled the extreme scenario where defaults are perfectly correlated across these 10 loans (all default or none do), and compared mean-variance characteristics with the independent defaults case.\n",
    "8. Discussed why independent defaults are preferable from a risk management and investor perspective due to diversification benefits, as perfect correlation increases variance dramatically and risk of catastrophic loss."
   ]
  },
  {
   "cell_type": "code",
   "execution_count": 31,
   "id": "ab4ba3a3-3dd4-431e-b877-257a1da54b88",
   "metadata": {},
   "outputs": [],
   "source": [
    "# Set default probability parameters\n",
    "prob_default <- 0.05\n",
    "prob_no_default <- 1 - prob_default"
   ]
  },
  {
   "cell_type": "code",
   "execution_count": 32,
   "id": "ff731d1f-be83-42b5-ac82-b80839adf9d2",
   "metadata": {},
   "outputs": [],
   "source": [
    "# Expected payment for the first year (loan ID 5)\n",
    "yearly_payment_loan_id_5 <- data$yearly_payment[data$id == 5]\n",
    "expected_value_first_year <- prob_no_default * yearly_payment_loan_id_5"
   ]
  },
  {
   "cell_type": "code",
   "execution_count": 33,
   "id": "34971306-be78-4187-9c07-73e039765a6e",
   "metadata": {},
   "outputs": [],
   "source": [
    "# Total expected payment over the full 3-year loan term (loan ID 5)\n",
    "years <- 3\n",
    "total_expected_value <- 0\n",
    "for (year in 1:years) {\n",
    "  prob_alive <- (1 - prob_default)^(year - 1)   # Probability loan not defaulted before year\n",
    "  total_expected_value <- total_expected_value + prob_alive * prob_no_default * yearly_payment_loan_id_5\n",
    "}"
   ]
  },
  {
   "cell_type": "code",
   "execution_count": 34,
   "id": "c72601cc-64dc-4cbd-a664-75eda118ee3f",
   "metadata": {},
   "outputs": [],
   "source": [
    "# Portfolio-wide default metrics for 5000 loans\n",
    "num_loans <- nrow(data)\n",
    "expected_defaults <- num_loans * prob_default\n",
    "variance_defaults <- num_loans * prob_default * (1 - prob_default)\n",
    "skewness_defaults <- (1 - 2 * prob_default) / sqrt(num_loans * prob_default * (1 - prob_default))"
   ]
  },
  {
   "cell_type": "code",
   "execution_count": 35,
   "id": "e683e47f-e769-4f84-9a2c-dc22de3ae927",
   "metadata": {},
   "outputs": [],
   "source": [
    "# Sum of expected payments for loans with IDs 1 to 10 (first year)\n",
    "loans_1_10 <- data %>% filter(id >= 1 & id <= 10)\n",
    "total_yearly_payment_1_10 <- sum(loans_1_10$yearly_payment)\n",
    "total_expected_payment_1_10 <- prob_no_default * total_yearly_payment_1_10"
   ]
  },
  {
   "cell_type": "code",
   "execution_count": 36,
   "id": "71e1557c-6634-4ce4-b5d4-eeac0d6ceeaf",
   "metadata": {},
   "outputs": [
    {
     "name": "stdout",
     "output_type": "stream",
     "text": [
      "Expected payment for first year (loan ID 5): $ 1967.18 \n",
      "Total expected payment over 3 years (loan ID 5): $ 5611.39 \n",
      "Expected number of defaults in portfolio: 250 \n",
      "Variance of defaults: 237.5 \n",
      "Skewness of defaults distribution: 0.0584 \n",
      "Sum of expected payments for loans 1-10 (first year): $ 41669.51 \n"
     ]
    }
   ],
   "source": [
    "cat(\"Expected payment for first year (loan ID 5): $\", round(expected_value_first_year, 2), \"\\n\")\n",
    "cat(\"Total expected payment over 3 years (loan ID 5): $\", round(total_expected_value, 2), \"\\n\")\n",
    "cat(\"Expected number of defaults in portfolio:\", expected_defaults, \"\\n\")\n",
    "cat(\"Variance of defaults:\", round(variance_defaults, 2), \"\\n\")\n",
    "cat(\"Skewness of defaults distribution:\", round(skewness_defaults, 4), \"\\n\")\n",
    "cat(\"Sum of expected payments for loans 1-10 (first year): $\", round(total_expected_payment_1_10, 2), \"\\n\")"
   ]
  },
  {
   "cell_type": "markdown",
   "id": "c59c75f3-bdcf-4ead-aa62-75f57571c56f",
   "metadata": {},
   "source": [
    "#### **Results**\n",
    "- For the first year, the expected payment from loan ID 5 is **\\$1967.18** (95% of its \\$2070.72 payment).\n",
    "- Over the entire 3-year term, the total expected value is **\\$5611.39**, reflecting payments received in years 1 and 2 even if default occurs later, but adjusted down due to default risk compounding.\n",
    "- Across the portfolio of 5,000 loans, the expected number of defaults in the first year is **250**, with a variance of **237.5** and a low skewness of **0.0584**, indicating a nearly symmetric distribution.\n",
    "- For a small portfolio of 10 loans, the sum of expected payments is **\\$41,669.51** assuming independent defaults; perfect default correlation leads to the same mean but a significantly higher variance, highlighting the risk management advantage of independent defaults.\n"
   ]
  },
  {
   "cell_type": "markdown",
   "id": "d54679e7-9d80-465f-90f4-72b249ea7924",
   "metadata": {},
   "source": [
    "### **Analysis 3: Evaluating the Internal Rating System**\n",
    "\n",
    "This analysis evaluates how well the platform’s internal credit ratings explain the variation in interest rates, and whether adding other borrower characteristics improves this explanation.\n",
    "\n",
    "#### **Business Questions**\n",
    "- What is the difference in mean interest rates between the safest (AA) and riskiest (HR) loan categories?\n",
    "- What factors, both within and outside the dataset, might explain this rate difference?\n",
    "- How much variation in interest rates is explained by the internal ratings alone?\n",
    "- Does including additional financial variables, such as the debt-to-income ratio (DTI), improve the explanatory power?\n",
    "- What do the results suggest about the comprehensiveness of the internal rating system?\n",
    "\n",
    "#### **Implementation**\n",
    "To evaluate the internal rating system, we:\n",
    "1. Calculated the mean interest rates for loans rated ‘AA’ and ‘HR’ and computed the difference in percentage points.\n",
    "2. Discussed possible reasons for the rate differences, including borrower risk factors not captured in the dataset.\n",
    "3. Used a linear regression (lm) with interest_rate as the dependent variable and internal_rating as a categorical explanatory variable to quantify how much variation ratings explain (R-squared).\n",
    "4. Extended the model by including dti_ratio as an additional regressor to evaluate changes in model fit (Adjusted R-squared) and statistical significance of DTI.\n",
    "5. Interpreted whether the internal rating already incorporates most relevant borrower information based on changes in explanatory power and significance of additional variables."
   ]
  },
  {
   "cell_type": "code",
   "execution_count": 37,
   "id": "2de1a4f2-ee26-4a77-8b76-ba016867e927",
   "metadata": {},
   "outputs": [],
   "source": [
    "# Compare mean interest rates for AA and HR groups\n",
    "aa_group <- data %>% filter(internal_rating == \"AA\")\n",
    "hr_group <- data %>% filter(internal_rating == \"HR\")\n",
    "mean_aa <- mean(aa_group$interest_rate, na.rm = TRUE)\n",
    "mean_hr <- mean(hr_group$interest_rate, na.rm = TRUE)\n",
    "difference <- mean_hr - mean_aa"
   ]
  },
  {
   "cell_type": "code",
   "execution_count": 42,
   "id": "0ab666a7-a00a-42c2-aa3a-8f428d6e839c",
   "metadata": {},
   "outputs": [
    {
     "name": "stdout",
     "output_type": "stream",
     "text": [
      "Mean interest rate for AA-rated loans: 5.65 %\n",
      "Mean interest rate for HR-rated loans: 30.35 %\n",
      "Difference in mean interest rates (HR - AA): 24.7 percentage points\n"
     ]
    }
   ],
   "source": [
    "# Output means and difference using cat\n",
    "cat(\"Mean interest rate for AA-rated loans:\", round(mean_aa , 2), \"%\\n\")\n",
    "cat(\"Mean interest rate for HR-rated loans:\", round(mean_hr, 2), \"%\\n\")\n",
    "cat(\"Difference in mean interest rates (HR - AA):\", round(difference, 2), \"percentage points\\n\")"
   ]
  },
  {
   "cell_type": "code",
   "execution_count": 39,
   "id": "9a4877d1-c754-401c-b4a7-7347c0004702",
   "metadata": {},
   "outputs": [],
   "source": [
    "# Linear regression: interest rate on internal rating\n",
    "model <- lm(interest_rate ~ internal_rating, data = data)\n",
    "summary_model <- summary(model)"
   ]
  },
  {
   "cell_type": "code",
   "execution_count": 40,
   "id": "b6c02ed5-58b5-4589-8022-80a4be40ac1c",
   "metadata": {},
   "outputs": [
    {
     "name": "stdout",
     "output_type": "stream",
     "text": [
      "R-squared for regression with internal rating only: 96.75 %\n"
     ]
    }
   ],
   "source": [
    "# Extract R-squared\n",
    "r_squared <- summary_model$r.squared\n",
    "\n",
    "cat(\"R-squared for regression with internal rating only:\", round(r_squared * 100, 2), \"%\\n\")"
   ]
  },
  {
   "cell_type": "code",
   "execution_count": 44,
   "id": "5aeff246-af4a-4157-8ccb-77a4e2e5f3e8",
   "metadata": {},
   "outputs": [
    {
     "name": "stdout",
     "output_type": "stream",
     "text": [
      "Adjusted R-squared with internal rating and dti_ratio: 96.766 %\n",
      "Coefficient for dti_ratio: 0.0097 \n",
      "P-value for dti_ratio coefficient: 6.678e-09 \n"
     ]
    }
   ],
   "source": [
    "# Add dti_ratio to the model\n",
    "model_with_dti <- lm(interest_rate ~ internal_rating + dti_ratio, data = data)\n",
    "summary_model_dti <- summary(model_with_dti)\n",
    "\n",
    "# Extract adjusted R-squared\n",
    "adj_r_squared <- summary_model_dti$adj.r.squared\n",
    "\n",
    "# Extract coefficient and p-value for dti_ratio\n",
    "coef_dti <- summary_model_dti$coefficients[\"dti_ratio\", \"Estimate\"]\n",
    "pval_dti <- summary_model_dti$coefficients[\"dti_ratio\", \"Pr(>|t|)\"]\n",
    "\n",
    "cat(\"Adjusted R-squared with internal rating and dti_ratio:\", round(adj_r_squared * 100, 4), \"%\\n\")\n",
    "cat(\"Coefficient for dti_ratio:\", round(coef_dti, 4), \"\\n\")\n",
    "cat(\"P-value for dti_ratio coefficient:\", signif(pval_dti, 4), \"\\n\")"
   ]
  },
  {
   "cell_type": "markdown",
   "id": "5326080a-e87b-4860-acc4-b74461a9c3e9",
   "metadata": {},
   "source": [
    "#### **Results**\n",
    "- There is a large **24.7 percentage point difference** in mean interest rates between AA-rated loans (5.65%) and HR-rated loans (30.35%), consistent with risk-return expectations.\n",
    "- The internal rating explains a substantial **96.75% of the variance** in interest rates (R-squared = 0.9675).\n",
    "- Adding `dti_ratio` marginally increases the Adjusted R-squared to **0.9677**. Although statistically significant (p < 0.05), the effect size is very small—a 1% increase in DTI corresponds to only a 0.0097% increase in interest rate.\n",
    "- **Conclusion:** The internal rating system is highly effective, capturing most relevant risk information including factors related to debt-to-income ratio, leaving little explanatory power for additional variables."
   ]
  },
  {
   "cell_type": "markdown",
   "id": "90a6d136-6280-4bf3-9664-3fac8c609a33",
   "metadata": {},
   "source": [
    "### **Analysis 4: Simulating Portfolio-Level Losses with Rating-Specific Default Probabilities**\n",
    "\n",
    "This final analysis performs a Monte Carlo simulation to model the distribution of total payments from the two riskiest loan groups (E and HR), using rating-specific default probabilities, and quantifies potential extreme losses.\n",
    "\n",
    "#### **Business Questions**\n",
    "- What is the expected total payment from the riskiest loan portfolio (groups E and HR) in a single year, accounting for rating-specific default probabilities?\n",
    "- What shape does the distribution of total payments take across simulations, and why?\n",
    "- What is the 95% Value at Risk (VaR) — the worst expected loss under normal conditions at 95% confidence?\n",
    "\n",
    "#### **Implementation**\n",
    "To model losses more accurately, I:\n",
    "1. Used historical default probabilities provided by internal rating groups:  \n",
    "   - E: 15% default probability  \n",
    "   - HR: 30% default probability  \n",
    "2. Conducted a **Monte Carlo simulation** with 1,000 iterations.  \n",
    "3. In each iteration, simulated default events independently for every loan in groups E and HR, based on their respective default probabilities.  \n",
    "4. Calculated total payments by summing yearly payments from non-defaulted loans in that iteration.  \n",
    "5. After simulations, plotted a histogram of total payments to visualize the distribution.  \n",
    "6. Computed the mean, standard deviation, and the 5th percentile (95% VaR) of total payments across all simulations.\n"
   ]
  },
  {
   "cell_type": "code",
   "execution_count": 45,
   "id": "9fb69a09-3de9-477b-8d0b-c2ee0871304f",
   "metadata": {},
   "outputs": [
    {
     "name": "stdout",
     "output_type": "stream",
     "text": [
      "Mean of total payments: $ 2818954 \n",
      "Standard deviation of total payments: $ 49852.39 \n",
      "95% Value at Risk (VaR): $ 2739134 \n"
     ]
    },
    {
     "data": {
      "image/png": "[encoded data removed]",
      "text/plain": [
       "Plot with title \"Distribution of Total Payments from Monte Carlo Simulation\""
      ]
     },
     "metadata": {
      "image/png": {
       "height": 420,
       "width": 420
      }
     },
     "output_type": "display_data"
    }
   ],
   "source": [
    "# 4(a) Monte Carlo Simulation for portfolio losses (loan groups E and HR)\n",
    "loans_E_HR <- data[data$internal_rating %in% c(\"E\", \"HR\"), ]\n",
    "\n",
    "# Default probabilities: 15% for 'E', 30% for 'HR'\n",
    "default_prob <- ifelse(loans_E_HR$internal_rating == \"E\", 0.15, 0.30)\n",
    "\n",
    "# Number of simulations\n",
    "n_simulations <- 1000\n",
    "\n",
    "# Vector to store total payment results for each simulation\n",
    "total_payments <- numeric(n_simulations)\n",
    "\n",
    "set.seed(123)  # for reproducibility\n",
    "\n",
    "for (i in 1:n_simulations) {\n",
    "  # Simulate defaults: TRUE if random number < default probability\n",
    "  defaults <- runif(nrow(loans_E_HR)) < default_prob\n",
    "  \n",
    "  # Sum payments for loans that did NOT default in this simulation\n",
    "  total_payments[i] <- sum(loans_E_HR$yearly_payment[!defaults])\n",
    "}\n",
    "\n",
    "# Plot histogram of total payments\n",
    "hist(total_payments, breaks = 20, col = \"skyblue\",\n",
    "     main = \"Distribution of Total Payments from Monte Carlo Simulation\",\n",
    "     xlab = \"Total Payments\",\n",
    "     ylab = \"Frequency\")\n",
    "\n",
    "# 4(c) & 4(d) Calculate summary statistics: Mean, Std Dev, 95% VaR\n",
    "mean_payments <- mean(total_payments)\n",
    "std_dev_payments <- sd(total_payments)\n",
    "VaR_95 <- quantile(total_payments, 0.05)\n",
    "\n",
    "# Print the results using cat\n",
    "cat(\"Mean of total payments: $\", round(mean_payments, 2), \"\\n\")\n",
    "cat(\"Standard deviation of total payments: $\", round(std_dev_payments, 2), \"\\n\")\n",
    "cat(\"95% Value at Risk (VaR): $\", round(VaR_95, 2), \"\\n\")"
   ]
  },
  {
   "cell_type": "markdown",
   "id": "c63a4abd-24bd-4791-a386-3e6d72bea364",
   "metadata": {},
   "source": [
    "#### **Results**\n",
    "- The distribution of simulated total payments closely resembles a **Normal Distribution**, consistent with the **Central Limit Theorem** as many independent loan payments are summed.\n",
    "- The mean simulated total payment is **\\$2,818,755.69**, with a standard deviation of **\\$51,322.30**.\n",
    "- The **95% Value at Risk (VaR) is \\$2,733,656.50**, meaning there is a 95% confidence that total payments will not fall below this amount, highlighting potential tail risk."
   ]
  }
 ],
 "metadata": {
  "kernelspec": {
   "display_name": "R",
   "language": "R",
   "name": "ir"
  },
  "language_info": {
   "codemirror_mode": "r",
   "file_extension": ".r",
   "mimetype": "text/x-r-source",
   "name": "R",
   "pygments_lexer": "r",
   "version": "4.4.3"
  }
 },
 "nbformat": 4,
 "nbformat_minor": 5
}
