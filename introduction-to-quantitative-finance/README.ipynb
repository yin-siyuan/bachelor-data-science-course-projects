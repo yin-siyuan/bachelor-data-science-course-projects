{
 "cells": [
  {
   "cell_type": "markdown",
   "id": "74ea80a5-542b-4686-b47f-7b7a7a2691a8",
   "metadata": {},
   "source": [
    "# Peer-to-Peer (P2P) Loan Data Analysis\n",
    "\n",
    "### **Project Objective**\n",
    "This project analyzes a dataset of peer-to-peer (P2P) loans to understand loan characteristics, model financial risk, and evaluate the effectiveness of the platform's internal credit rating system. The analysis serves as a portfolio piece demonstrating skills in data exploration, statistical modeling, risk assessment, and reporting in R.\n",
    "\n",
    "---\n",
    "\n",
    "### **Dataset**\n",
    "The analysis uses the `p2ploans.csv` dataset, which contains information on 5,000 loans. Key variables include:\n",
    "* `id`: Unique loan identifier.\n",
    "* `interest_rate`: The loan's interest rate.\n",
    "* `yearly_payment`: The fixed annual payment made by the borrower.\n",
    "* `dti_ratio`: The borrower's debt-to-income ratio.\n",
    "* `maturity`: The duration of the loan in years.\n",
    "* `internal_rating`: The platform's proprietary credit rating (AA, A, B, C, D, E, HR).\n",
    "\n",
    "* `risk_free:` The risk-free rate (in percent), typically based on government securities.\n",
    "\n",
    "---\n",
    "\n",
    "### **Analysis Overview**\n",
    "The project is broken down into four key analytical tasks:\n",
    "\n",
    "1.  **Descriptive Analysis of Loan Payments:**\n",
    "    * Investigated the statistical distribution of yearly payments using descriptive statistics (mean, median, skewness) and histograms.\n",
    "    * Determined that a triangular distribution is most suitable for modeling these payments.\n",
    "\n",
    "2.  **Borrower Default Risk Modeling:**\n",
    "    * Calculated the expected value of loan payments considering default probabilities.\n",
    "    * Used a Binomial distribution to model the expected number and variance of defaults across the entire loan portfolio.\n",
    "    * Compared the risk profiles of independent vs. correlated default scenarios.\n",
    "\n",
    "3.  **Evaluation of the Internal Rating System:**\n",
    "    * Used linear regression to measure how well the platform's internal ratings explain variations in interest rates.\n",
    "    * Concluded that the rating system is highly effective, capturing over 96% of the interest rate variability.\n",
    "\n",
    "4.  **Monte Carlo Simulation of Portfolio Losses:**\n",
    "    * Ran a 1,000-iteration Monte Carlo simulation to model the distribution of total payments from the two riskiest loan groups (E and HR).\n",
    "    * Calculated the portfolio's mean expected payment, standard deviation, and the 95% Value at Risk (VaR) to quantify potential losses.\n",
    "\n",
    "---\n",
    "\n",
    "### **Tools and Libraries**\n",
    "* **Language:** R\n",
    "* **Key Libraries:** `ggplot2` (for visualizations), `dplyr` (for data manipulation), `moments` (for skewness/kurtosis)\n",
    "* **Reporting:** R Markdown\n",
    "\n",
    "---\n",
    "\n",
    "### **How to Use**\n",
    "The complete analysis, including all code, narrative, and output, is contained in the **`P2P_Loan_Analysis.ipynb`** file. A pre-rendered version is also available in **`P2P_Loan_Analysis.html`** for easy viewing in any web browser."
   ]
  }
 ],
 "metadata": {
  "kernelspec": {
   "display_name": "Python 3 (ipykernel)",
   "language": "python",
   "name": "python3"
  },
  "language_info": {
   "codemirror_mode": {
    "name": "ipython",
    "version": 3
   },
   "file_extension": ".py",
   "mimetype": "text/x-python",
   "name": "python",
   "nbconvert_exporter": "python",
   "pygments_lexer": "ipython3",
   "version": "3.13.5"
  }
 },
 "nbformat": 4,
 "nbformat_minor": 5
}
