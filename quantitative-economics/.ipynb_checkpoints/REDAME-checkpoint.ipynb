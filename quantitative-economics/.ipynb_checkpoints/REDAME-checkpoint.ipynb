{
 "cells": [
  {
   "cell_type": "markdown",
   "id": "dcabb16e-3656-4c61-aced-499ef8d9fb50",
   "metadata": {},
   "source": [
    "# Lifecycle Consumption and Saving Decisions\n",
    "\n",
    "This is a course project that models individual consumption and saving behavior over the life cycle under different economic assumptions (e.g. borrowing cost, housing constraints).\n",
    "\n",
    "## Project Structure\n",
    "\n",
    "```\n",
    "quantitative-economics/\n",
    "│\n",
    "├── README.md             \n",
    "├── code-hand-in-version.ipynb\n",
    "├── code-hand-in-version.html\n",
    "├── presentation\n",
    "```\n",
    "\n",
    "## How to Run\n",
    "- **`code-hand-in-version.html`** for easy viewing in any web browser\n",
    "- Open the Jupyter notebook `code-hand-in-version.ipynb` and run all cells sequentially.\n",
    "\n",
    "## Author\n",
    "Siyuan Yin\n",
    "\n",
    "## Status\n",
    "Course project for Quantitative Economics, BI Norweigian Business School\n"
   ]
  }
 ],
 "metadata": {
  "kernelspec": {
   "display_name": "Python 3 (ipykernel)",
   "language": "python",
   "name": "python3"
  },
  "language_info": {
   "codemirror_mode": {
    "name": "ipython",
    "version": 3
   },
   "file_extension": ".py",
   "mimetype": "text/x-python",
   "name": "python",
   "nbconvert_exporter": "python",
   "pygments_lexer": "ipython3",
   "version": "3.13.5"
  }
 },
 "nbformat": 4,
 "nbformat_minor": 5
}
